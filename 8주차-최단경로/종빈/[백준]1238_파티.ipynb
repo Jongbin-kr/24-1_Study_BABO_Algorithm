{
 "cells": [
  {
   "cell_type": "markdown",
   "metadata": {},
   "source": [
    "가장 처음 풀이.\n",
    "플로이드-워셜로 풀었는데, N <= 1,000이라 타임아웃인 것 같다."
   ]
  },
  {
   "cell_type": "code",
   "execution_count": 16,
   "metadata": {},
   "outputs": [
    {
     "name": "stdout",
     "output_type": "stream",
     "text": [
      "10\n"
     ]
    }
   ],
   "source": [
    "n_cities, n_roads, party = map(int, input().split())\n",
    "\n",
    "graph = [[float('inf')] * (n_cities+1) for _ in range(n_cities+1)]\n",
    "for i in range(1, n_cities+1):\n",
    "    graph[i][i] = 0\n",
    "\n",
    "for _ in range(n_roads):\n",
    "    start, end, dist = map(int, input().split())\n",
    "    graph[start][end] = dist\n",
    "    \n",
    "for start in range(1, n_cities+1):\n",
    "    for end in range(1, n_cities+1):\n",
    "        for bypass in range(1, n_cities+1):\n",
    "            graph[start][end] = min(graph[start][end], graph[start][bypass] + graph[bypass][end])\n",
    "\n",
    "the_farthest_dist = 0\n",
    "for start in range(1, n_cities+1):\n",
    "    the_farthest_dist = max(the_farthest_dist, graph[start][party] + graph[party][start])\n",
    "\n",
    "print(the_farthest_dist)\n",
    "    "
   ]
  },
  {
   "cell_type": "markdown",
   "metadata": {},
   "source": [
    "다익스트라로 다시 풀어보자\n",
    "- 다익스트라를 매 도시들마다 반복하는 식으로 풀었다.\n",
    "    - 그럼 시간복잡도는 $O(VE \\log V)$?\n",
    "    - 얼핏봐도 플로이드보다는 더 빨라보이고, 문제도 풀린다.\n",
    "    - 그럼 **플로이드-워셜은 언제 쓰는게 좋은가?**\n",
    "\n",
    "- 더 효율적인 풀이 로직\n",
    "    - https://www.acmicpc.net/board/view/14990"
   ]
  },
  {
   "cell_type": "code",
   "execution_count": 22,
   "metadata": {},
   "outputs": [
    {
     "name": "stdout",
     "output_type": "stream",
     "text": [
      "10\n"
     ]
    }
   ],
   "source": [
    "n_cities, n_roads, party = map(int, input().split())\n",
    "\n",
    "dists = [[float('inf')] * (n_cities + 1) for _ in range(n_cities+1)]\n",
    "graph = [[] for _ in range(n_cities+1)] \n",
    "\n",
    "for _ in range(n_roads):\n",
    "    start, end, dist = map(int, input().split())\n",
    "    graph[start].append((end, dist))\n",
    "    \n",
    "    \n",
    "import heapq\n",
    "\n",
    "def dijkstra(start):\n",
    "    q = []\n",
    "    dists[start][start] = 0\n",
    "    heapq.heappush(q, (0, start))\n",
    "    \n",
    "    while q:\n",
    "        current_dist, neareast_node = heapq.heappop(q)\n",
    "        \n",
    "        if dists[start][neareast_node] < current_dist:\n",
    "            continue\n",
    "        \n",
    "        for end, dist in graph[neareast_node]:\n",
    "            detouring_dist = current_dist + dist\n",
    "            if detouring_dist < dists[start][end]:\n",
    "                dists[start][end] = detouring_dist\n",
    "                heapq.heappush(q, (detouring_dist, end))\n",
    "                \n",
    "for start_city in range(1, n_cities+1):\n",
    "    dijkstra(start_city)\n",
    "    \n",
    "the_farthest_dist = 0\n",
    "for start in range(1, n_cities+1):\n",
    "    the_farthest_dist = max(the_farthest_dist, dists[start][party] + dists[party][start])\n",
    "\n",
    "print(the_farthest_dist)"
   ]
  }
 ],
 "metadata": {
  "kernelspec": {
   "display_name": "Python 3",
   "language": "python",
   "name": "python3"
  },
  "language_info": {
   "codemirror_mode": {
    "name": "ipython",
    "version": 3
   },
   "file_extension": ".py",
   "mimetype": "text/x-python",
   "name": "python",
   "nbconvert_exporter": "python",
   "pygments_lexer": "ipython3",
   "version": "3.10.11"
  }
 },
 "nbformat": 4,
 "nbformat_minor": 2
}
