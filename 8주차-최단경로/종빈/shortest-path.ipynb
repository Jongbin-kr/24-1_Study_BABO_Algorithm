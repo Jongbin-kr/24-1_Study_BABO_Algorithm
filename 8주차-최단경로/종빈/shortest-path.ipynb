{
 "cells": [
  {
   "cell_type": "markdown",
   "metadata": {},
   "source": [
    "### 다익스트라 알고리즘\n",
    "- 한 지점에서 ~~다른 특정 지점~~ 모든 지점까지의 최단 경로를 구하는 Greedy 알고리즘\n",
    "- 그래프의 시작점과 끝점을 뒤집어서, 역으로 다른 모든 지점에서 한 지점으로 오는 최단 경로를 구할 수도 있다. (참고: 백준1238)"
   ]
  },
  {
   "cell_type": "markdown",
   "metadata": {},
   "source": [
    "#### easy version\n",
    "- $O(V^2)$\n",
    "    - 총 V번에 걸쳐서 최단 거리가 가장 짧은 노드를 선형 탐색하고, 현재 노드와 연결된 노드들을 매번 일일이 확인하기 때문"
   ]
  },
  {
   "cell_type": "code",
   "execution_count": 6,
   "metadata": {},
   "outputs": [
    {
     "name": "stdout",
     "output_type": "stream",
     "text": [
      "0\n",
      "2\n",
      "3\n",
      "1\n",
      "2\n",
      "4\n"
     ]
    }
   ],
   "source": [
    "n, m = map(int, input().split())\n",
    "\n",
    "start = int(input())\n",
    "graph = [[] for i in range(n+1)]\n",
    "for _ in range(m):\n",
    "    from_node, to_node, dist = map(int, input().split())\n",
    "    graph[from_node].append((to_node, dist))\n",
    "    \n",
    "visited = [False] * (n+1)\n",
    "min_dists = [float('inf')] * (n+1)\n",
    "\n",
    "\n",
    "\n",
    "def get_nearest_node():\n",
    "    min_value = float('inf')\n",
    "    index = 0\n",
    "    for next_node in range(1, n+1):\n",
    "        if min_dists[next_node] < min_value and not visited[next_node]:\n",
    "            min_value = min_dists[next_node]\n",
    "            nearest_node = next_node\n",
    "    return nearest_node\n",
    "        \n",
    "        \n",
    "\n",
    "def dijkstra(start):\n",
    "    ## 시작 노드 초기화\n",
    "    min_dists[start] = 0\n",
    "    visited[start] = True\n",
    "    ## 시작노드로 부터 연결된 모든 노드들에 대하여 거리 업데이트\n",
    "    for to_node, dist in graph[start]:  \n",
    "        min_dists[to_node] = dist\n",
    "    \n",
    "        \n",
    "    for _ in range(n-1):    ## 남은 n-1개의 노드들에 대하여 반복\n",
    "        nearest_node = get_nearest_node()   ## 다음으로 확인할 노드는 방문하지 않은 노드 중 가장 가까운 노드\n",
    "        visited[nearest_node] = True\n",
    "        for to_node, dist in graph[nearest_node]:\n",
    "            detouring_dist = min_dists[nearest_node] + dist\n",
    "            if detouring_dist < min_dists[to_node]:\n",
    "                min_dists[to_node] = detouring_dist\n",
    "                \n",
    "dijkstra(start)\n",
    "\n",
    "for i in range(1, n+1):\n",
    "    if min_dists[i] == float('inf'):\n",
    "        print('infinity')\n",
    "        \n",
    "    else:\n",
    "        print(min_dists[i])"
   ]
  },
  {
   "cell_type": "markdown",
   "metadata": {},
   "source": [
    "#### efficient one using heap\n",
    "\n",
    "- $O(E \\log V)$\n",
    "    - E는 간선의 개수, V는 노드의 개수.\n",
    "    - 현재 노드로 부터 가장 가까운 노드를 힙의 성질로 더 빠르게 찾아서, 시간복잡도를 줄인다!"
   ]
  },
  {
   "cell_type": "code",
   "execution_count": 5,
   "metadata": {},
   "outputs": [
    {
     "name": "stdout",
     "output_type": "stream",
     "text": [
      "0\n",
      "infinity\n",
      "infinity\n",
      "infinity\n",
      "infinity\n",
      "infinity\n"
     ]
    }
   ],
   "source": [
    "import heapq\n",
    "\n",
    "n, m = map(int, input().split())\n",
    "\n",
    "start = int(input())\n",
    "graph = [[] for i in range(n+1)]\n",
    "for _ in range(m):\n",
    "    from_node, to_node, cost = map(int, input().split())\n",
    "    graph[from_node].append((to_node, cost))\n",
    "    \n",
    "# visited = [False] * (n+1)     ## 힙을 이용한 경우에는 힙이 visited list를 대신한다.\n",
    "dists = [float('inf')] * (n+1)\n",
    "\n",
    "\n",
    "def dijkstra(start):\n",
    "    q = []\n",
    "    heapq.heappush(q, (0, start))\n",
    "    dists[start] = 0\n",
    "    \n",
    "    while q:\n",
    "        current_dist, nearest_node = heapq.heappop(q)    ## 가장 거리가 짧은 노드 꺼내기\n",
    "        \n",
    "        if dists[nearest_node] < current_dist:   ## 이미 한번 처리된 노드라면 무시하기.  \n",
    "            continue                             ## 맨 처음 노드에 대해서는 0 < 0이므로, if문 안으로 안들어간다. 즉, <=으로 하면 코드 안돌아감!\n",
    "        \n",
    "        for to_node, dist in graph[nearest_node]:\n",
    "            detouring_dist = current_dist + dist\n",
    "            if detouring_dist < dists[to_node]:\n",
    "                dists[to_node] = detouring_dist\n",
    "                heapq.heappush(q, (detouring_dist, to_node))\n",
    "                \n",
    "dijkstra(start)\n",
    "\n",
    "for i in range(1, n+1):\n",
    "    if dists[i] == float('inf'):\n",
    "        print('infinity')\n",
    "    \n",
    "    else:\n",
    "        print(dists[i])\n",
    "        "
   ]
  },
  {
   "cell_type": "markdown",
   "metadata": {},
   "source": [
    "## 플로이드 워셜 알고리즘\n",
    "- 모든 지점에서 다른 모든 지점까지의 최단 경로를 구하는 DP 알고리즘\n",
    "- O(N^3) -> 어지간하면 안쓰는게...\n",
    "    - N개의 노드들에 대하여, 매번 $O(N^2)$의 시간이 소요된다."
   ]
  },
  {
   "cell_type": "code",
   "execution_count": 18,
   "metadata": {},
   "outputs": [
    {
     "name": "stdout",
     "output_type": "stream",
     "text": [
      "0\n",
      "4\n",
      "8\n",
      "6\n",
      "3\n",
      "0\n",
      "7\n",
      "9\n",
      "5\n",
      "9\n",
      "0\n",
      "4\n",
      "7\n",
      "11\n",
      "2\n",
      "0\n"
     ]
    }
   ],
   "source": [
    "n = int(input())\n",
    "m = int(input())\n",
    "\n",
    "graph = [[float('inf')] * (n+1) for _ in range(n+1)]\n",
    "## 대각 성분(자기 자신으로 가는 경우)에 대해서 그래프값 0으로 설정\n",
    "for from_node in range(1, n+1):\n",
    "        graph[from_node][from_node] = 0 \n",
    "## 그래프값 입력받기\n",
    "for _ in range(m):\n",
    "    from_node, to_node, dist = map(int, input().split())\n",
    "    graph[from_node][to_node] = dist\n",
    "\n",
    "\n",
    "## 알고리즘 수행\n",
    "for bypass_node in range(1, n+1):\n",
    "    for from_node in range(1, n+1):\n",
    "        for to_node in range(1, n+1):\n",
    "            graph[from_node][to_node] = min(graph[from_node][to_node], graph[from_node][bypass_node] + graph[bypass_node][to_node])\n",
    "\n",
    "\n",
    "## 결과값 출력\n",
    "for from_node in range(1, n+1):\n",
    "    for to_node in range(1, n+1):\n",
    "        if graph[from_node][to_node] == float('inf'):\n",
    "            print('inf', end=' ')\n",
    "        else: print(graph[from_node][to_node], end=' ')\n",
    "    print()"
   ]
  }
 ],
 "metadata": {
  "kernelspec": {
   "display_name": "Python 3",
   "language": "python",
   "name": "python3"
  },
  "language_info": {
   "codemirror_mode": {
    "name": "ipython",
    "version": 3
   },
   "file_extension": ".py",
   "mimetype": "text/x-python",
   "name": "python",
   "nbconvert_exporter": "python",
   "pygments_lexer": "ipython3",
   "version": "3.10.11"
  }
 },
 "nbformat": 4,
 "nbformat_minor": 2
}
